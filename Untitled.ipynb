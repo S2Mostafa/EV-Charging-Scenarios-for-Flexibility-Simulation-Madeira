{
 "cells": [
  {
   "cell_type": "code",
   "execution_count": 4,
   "id": "bac080c6-5753-40fd-9d50-2e85370882dc",
   "metadata": {},
   "outputs": [],
   "source": [
    "import matplotlib.pyplot as plt\n",
    "\n",
    "# Use the normalized distribution\n",
    "SOC_start_probability_distribution = {\n",
    "    20: 0.25,\n",
    "    25: 0.20,\n",
    "    30: 0.15,\n",
    "    35: 0.12,\n",
    "    40: 0.10,\n",
    "    45: 0.07,\n",
    "    50: 0.05,\n",
    "    55: 0.03,\n",
    "    60: 0.02,\n",
    "    65: 0.01\n",
    "}\n",
    "\n",
    "# Extract SOC values and probabilities\n",
    "soc_values = list(SOC_start_probability_distribution.keys())\n",
    "probabilities = list(SOC_start_probability_distribution.values())\n",
    "\n",
    "# Plot probability distribution\n",
    "plt.figure(figsize=(8,5))\n",
    "plt.bar(soc_values, probabilities, width=3, alpha=0.7, edgecolor='black')\n",
    "plt.xlabel(\"Starting SOC (%)\")\n",
    "plt.ylabel(\"Probability\")\n",
    "plt.title(\"SOC Start Probability Distribution\")\n",
    "plt.xticks(soc_values)\n",
    "plt.grid(axis='y', linestyle=\"--\", alpha=0.6)\n",
    "\n",
    "# Save the figure\n",
    "file_path = \"./data/outputs/SOC_start_probability_distribution.png\"\n",
    "plt.savefig(file_path, dpi=300, bbox_inches=\"tight\")\n",
    "plt.close()\n"
   ]
  },
  {
   "cell_type": "code",
   "execution_count": null,
   "id": "b09be816-462d-4d8a-a6d1-7e5d5ea889e1",
   "metadata": {},
   "outputs": [],
   "source": []
  }
 ],
 "metadata": {
  "kernelspec": {
   "display_name": "Python 3 (ipykernel)",
   "language": "python",
   "name": "python3"
  },
  "language_info": {
   "codemirror_mode": {
    "name": "ipython",
    "version": 3
   },
   "file_extension": ".py",
   "mimetype": "text/x-python",
   "name": "python",
   "nbconvert_exporter": "python",
   "pygments_lexer": "ipython3",
   "version": "3.12.10"
  }
 },
 "nbformat": 4,
 "nbformat_minor": 5
}
